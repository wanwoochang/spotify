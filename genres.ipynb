{
 "cells": [
  {
   "cell_type": "code",
   "execution_count": 1,
   "metadata": {},
   "outputs": [],
   "source": [
    "import os, json, re, requests, base64, time, datetime\n",
    "\n",
    "import psycopg2\n",
    "import sqlalchemy as sa\n",
    "from urllib.parse import urlparse, parse_qs\n",
    "\n",
    "import numpy as np\n",
    "import pandas as pd\n",
    "pd.set_option(\"display.max_columns\", None)\n",
    "pd.set_option(\"display.max_colwidth\", None)"
   ]
  },
  {
   "cell_type": "code",
   "execution_count": 2,
   "metadata": {},
   "outputs": [],
   "source": [
    "db_creds_file = r\"D:\\personal\\creds\\psql\\db_creds.json\"\n",
    "with open(db_creds_file) as f:\n",
    "    db_creds = json.load(f)\n",
    "\n",
    "uid = db_creds[\"uid\"]\n",
    "pw = db_creds[\"password\"]\n",
    "host = \"localhost\"\n",
    "port = 5432\n",
    "db = \"spotify\"\n",
    "\n",
    "engine = sa.create_engine(f\"postgresql+psycopg2://{uid}:{pw}@{host}:{port}/{db}\")\n",
    "conn = engine.connect()"
   ]
  },
  {
   "cell_type": "code",
   "execution_count": 3,
   "metadata": {},
   "outputs": [],
   "source": [
    "stmt = \"\"\"\n",
    "select id\n",
    "from audio.track_info\n",
    "\"\"\"\n",
    "\n",
    "df = pd.read_sql(stmt, conn)"
   ]
  },
  {
   "cell_type": "code",
   "execution_count": 4,
   "metadata": {},
   "outputs": [],
   "source": [
    "genres = r\"D:\\data_projects\\spotify\\dump\""
   ]
  },
  {
   "cell_type": "code",
   "execution_count": 5,
   "metadata": {},
   "outputs": [],
   "source": [
    "df[\"genres\"] = np.empty((len(df), 0)).tolist()\n",
    "\n",
    "for genre in os.listdir(genres):\n",
    "    for file in os.listdir(os.path.join(genres, genre)):\n",
    "        track = file.split(\".\")[0]\n",
    "        df.loc[df[df[\"id\"]==track].index, \"genres\"].apply(lambda x: x.append(genre))"
   ]
  },
  {
   "cell_type": "code",
   "execution_count": 7,
   "metadata": {},
   "outputs": [
    {
     "data": {
      "text/html": [
       "<div>\n",
       "<style scoped>\n",
       "    .dataframe tbody tr th:only-of-type {\n",
       "        vertical-align: middle;\n",
       "    }\n",
       "\n",
       "    .dataframe tbody tr th {\n",
       "        vertical-align: top;\n",
       "    }\n",
       "\n",
       "    .dataframe thead th {\n",
       "        text-align: right;\n",
       "    }\n",
       "</style>\n",
       "<table border=\"1\" class=\"dataframe\">\n",
       "  <thead>\n",
       "    <tr style=\"text-align: right;\">\n",
       "      <th></th>\n",
       "      <th>id</th>\n",
       "      <th>genres</th>\n",
       "    </tr>\n",
       "  </thead>\n",
       "  <tbody>\n",
       "    <tr>\n",
       "      <th>0</th>\n",
       "      <td>69uJi5QsBtqlYkGURTBli8</td>\n",
       "      <td>[acoustic, sad]</td>\n",
       "    </tr>\n",
       "    <tr>\n",
       "      <th>1</th>\n",
       "      <td>7ilWEHob3AYG3lAJlKEpDR</td>\n",
       "      <td>[acoustic]</td>\n",
       "    </tr>\n",
       "    <tr>\n",
       "      <th>2</th>\n",
       "      <td>0SuG9kyzGRpDqrCWtgD6Lq</td>\n",
       "      <td>[acoustic, british, chill, guitar, happy, rainy-day, road-trip, sad, singer-songwriter, sleep, study, summer]</td>\n",
       "    </tr>\n",
       "    <tr>\n",
       "      <th>3</th>\n",
       "      <td>3K9PY33TKt25UXX6YymFQq</td>\n",
       "      <td>[acoustic, chill, folk, rainy-day, singer-songwriter, sleep]</td>\n",
       "    </tr>\n",
       "    <tr>\n",
       "      <th>4</th>\n",
       "      <td>7paYa83IYmg2dvRu3NvcKL</td>\n",
       "      <td>[acoustic]</td>\n",
       "    </tr>\n",
       "  </tbody>\n",
       "</table>\n",
       "</div>"
      ],
      "text/plain": [
       "                       id  \\\n",
       "0  69uJi5QsBtqlYkGURTBli8   \n",
       "1  7ilWEHob3AYG3lAJlKEpDR   \n",
       "2  0SuG9kyzGRpDqrCWtgD6Lq   \n",
       "3  3K9PY33TKt25UXX6YymFQq   \n",
       "4  7paYa83IYmg2dvRu3NvcKL   \n",
       "\n",
       "                                                                                                          genres  \n",
       "0                                                                                                [acoustic, sad]  \n",
       "1                                                                                                     [acoustic]  \n",
       "2  [acoustic, british, chill, guitar, happy, rainy-day, road-trip, sad, singer-songwriter, sleep, study, summer]  \n",
       "3                                                   [acoustic, chill, folk, rainy-day, singer-songwriter, sleep]  \n",
       "4                                                                                                     [acoustic]  "
      ]
     },
     "execution_count": 7,
     "metadata": {},
     "output_type": "execute_result"
    }
   ],
   "source": [
    "df.head()"
   ]
  },
  {
   "cell_type": "code",
   "execution_count": 8,
   "metadata": {},
   "outputs": [],
   "source": [
    "stmt = \"\"\"\n",
    "DROP TABLE IF EXISTS audio.track_genres;\n",
    "\n",
    "CREATE TABLE audio.track_genres (\n",
    "id                            text PRIMARY KEY,\n",
    "genres                        text[]\n",
    ");\n",
    "\"\"\"\n",
    "\n",
    "[conn.execute(s) for s in stmt.split(\";\") if s != \"\\n\"]\n",
    "\n",
    "df.to_sql(name=\"track_genres\", con=conn, schema=\"audio\", index=False, if_exists=\"append\")"
   ]
  },
  {
   "cell_type": "code",
   "execution_count": null,
   "metadata": {},
   "outputs": [],
   "source": []
  }
 ],
 "metadata": {
  "kernelspec": {
   "display_name": "Python 3",
   "language": "python",
   "name": "python3"
  },
  "language_info": {
   "codemirror_mode": {
    "name": "ipython",
    "version": 3
   },
   "file_extension": ".py",
   "mimetype": "text/x-python",
   "name": "python",
   "nbconvert_exporter": "python",
   "pygments_lexer": "ipython3",
   "version": "3.7.6"
  }
 },
 "nbformat": 4,
 "nbformat_minor": 4
}
